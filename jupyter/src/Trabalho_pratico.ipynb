{
 "cells": [
  {
   "cell_type": "markdown",
   "id": "8e5e2560-fe79-448d-a9b5-8da953ea21ac",
   "metadata": {
    "tags": []
   },
   "source": [
    "# 1. Criando uma função para converter país em continente, a partir do arquivo de usuários"
   ]
  },
  {
   "cell_type": "markdown",
   "id": "2c75fda5-6501-4efe-9dde-cdc90fc88df1",
   "metadata": {
    "tags": []
   },
   "source": [
    "## 1.1 Abra o arquivo de usuários usando pandas"
   ]
  },
  {
   "cell_type": "code",
   "execution_count": 1,
   "id": "5c7d2da2-9ae6-4cd9-97f5-7610010587e0",
   "metadata": {},
   "outputs": [
    {
     "data": {
      "text/html": [
       "<div>\n",
       "<style scoped>\n",
       "    .dataframe tbody tr th:only-of-type {\n",
       "        vertical-align: middle;\n",
       "    }\n",
       "\n",
       "    .dataframe tbody tr th {\n",
       "        vertical-align: top;\n",
       "    }\n",
       "\n",
       "    .dataframe thead th {\n",
       "        text-align: right;\n",
       "    }\n",
       "</style>\n",
       "<table border=\"1\" class=\"dataframe\">\n",
       "  <thead>\n",
       "    <tr style=\"text-align: right;\">\n",
       "      <th></th>\n",
       "      <th>Country or area</th>\n",
       "      <th>Subregion</th>\n",
       "      <th>Region</th>\n",
       "      <th>Internet users</th>\n",
       "      <th>Population</th>\n",
       "    </tr>\n",
       "  </thead>\n",
       "  <tbody>\n",
       "    <tr>\n",
       "      <th>count</th>\n",
       "      <td>214</td>\n",
       "      <td>214</td>\n",
       "      <td>214</td>\n",
       "      <td>214</td>\n",
       "      <td>212</td>\n",
       "    </tr>\n",
       "    <tr>\n",
       "      <th>unique</th>\n",
       "      <td>214</td>\n",
       "      <td>22</td>\n",
       "      <td>5</td>\n",
       "      <td>214</td>\n",
       "      <td>212</td>\n",
       "    </tr>\n",
       "    <tr>\n",
       "      <th>top</th>\n",
       "      <td>China</td>\n",
       "      <td>Caribbean</td>\n",
       "      <td>Africa</td>\n",
       "      <td>1,010,740,000</td>\n",
       "      <td>1,427,647,786</td>\n",
       "    </tr>\n",
       "    <tr>\n",
       "      <th>freq</th>\n",
       "      <td>1</td>\n",
       "      <td>20</td>\n",
       "      <td>55</td>\n",
       "      <td>1</td>\n",
       "      <td>1</td>\n",
       "    </tr>\n",
       "  </tbody>\n",
       "</table>\n",
       "</div>"
      ],
      "text/plain": [
       "       Country or area  Subregion  Region Internet users     Population\n",
       "count              214        214     214            214            212\n",
       "unique             214         22       5            214            212\n",
       "top              China  Caribbean  Africa  1,010,740,000  1,427,647,786\n",
       "freq                 1         20      55              1              1"
      ]
     },
     "execution_count": 1,
     "metadata": {},
     "output_type": "execute_result"
    }
   ],
   "source": [
    "import pandas as pd\n",
    "df1 = pd.read_csv('./dados/worldwide_internet_users-users.csv')\n",
    "df1.describe()"
   ]
  },
  {
   "cell_type": "markdown",
   "id": "6d87d97e-aae7-4d89-8685-bf8db9caf77c",
   "metadata": {},
   "source": [
    "## 1.2 Crie um dicionário chamado “mapeamento_continente”"
   ]
  },
  {
   "cell_type": "code",
   "execution_count": 2,
   "id": "d062ff7e-dcf4-47f3-8dd8-bf3e068b8b7b",
   "metadata": {},
   "outputs": [],
   "source": [
    "mapeamento_continente = {}"
   ]
  },
  {
   "cell_type": "markdown",
   "id": "2b5ef941-cf35-440c-b1c7-d3df55900540",
   "metadata": {},
   "source": [
    "## 1.3 Crie uma função \"mapear\""
   ]
  },
  {
   "cell_type": "code",
   "execution_count": 3,
   "id": "2f1e5198-164f-43c4-b202-2f23621f9dd0",
   "metadata": {},
   "outputs": [],
   "source": [
    "# mapeamento_continente = { df['Country or area'][i]:df['Region'][i] for i in range(0, len(df.index))}\n",
    "def mapear(dataframe, pais, continente):\n",
    "    return { dataframe[pais][i]:dataframe[continente][i] for i in range(0, len(dataframe.index))} # Dictionary crompreenhsion\n",
    "mapeamento_continente = mapear(df1, 'Country or area', 'Region')"
   ]
  },
  {
   "cell_type": "markdown",
   "id": "31f08714-8262-4af3-b36c-400815aff24e",
   "metadata": {},
   "source": [
    "## 1.4 Crie uma função 'retorna_continente'"
   ]
  },
  {
   "cell_type": "code",
   "execution_count": 4,
   "id": "66edb5b7-fb6c-4d2f-bbd7-71c98395aa9f",
   "metadata": {},
   "outputs": [
    {
     "name": "stdout",
     "output_type": "stream",
     "text": [
      "Americas\n",
      "-----\n",
      "Não existe esse país em nossa base\n",
      "None\n"
     ]
    }
   ],
   "source": [
    "def retorna_continente(mapeamento_continente, pais):\n",
    "    try:\n",
    "        return mapeamento_continente[pais]\n",
    "    except:\n",
    "        print(\"Não existe esse país em nossa base\")\n",
    "        return None\n",
    "print(retorna_continente(mapeamento_continente, 'Brazil'))\n",
    "print('-----')\n",
    "print(retorna_continente(mapeamento_continente, 'Brasil'))"
   ]
  },
  {
   "cell_type": "markdown",
   "id": "81321180-4343-4f43-ae44-04e51ca4e80b",
   "metadata": {},
   "source": [
    "# 2. Adicionando a informação de continente na tabela de velocidades, a partir do mapeamento do arquivo de usuários"
   ]
  },
  {
   "cell_type": "markdown",
   "id": "42360753-9beb-44b8-9859-bc40803ba55c",
   "metadata": {},
   "source": [
    "## 2.1 Abra o arquivo de velocidades usando pandas"
   ]
  },
  {
   "cell_type": "code",
   "execution_count": 5,
   "id": "f8f32899-e90c-4107-9f92-3bcd043f8092",
   "metadata": {},
   "outputs": [],
   "source": [
    "import pandas as pd\n",
    "df2 = pd.read_csv('./dados/worldwide_internet_speed_in_2022-avg_speed.csv')"
   ]
  },
  {
   "cell_type": "markdown",
   "id": "93a2a8d2-eade-4624-91e9-2546395e3793",
   "metadata": {},
   "source": [
    "## 2.2 Adicione uma nova coluna 'Continente' ao DataFrame"
   ]
  },
  {
   "cell_type": "code",
   "execution_count": 6,
   "id": "832b3956-27dc-40d7-b64c-cf6338b16a8d",
   "metadata": {},
   "outputs": [
    {
     "name": "stdout",
     "output_type": "stream",
     "text": [
      "Não existe esse país em nossa base\n",
      "Não existe esse país em nossa base\n",
      "Não existe esse país em nossa base\n",
      "Não existe esse país em nossa base\n",
      "Não existe esse país em nossa base\n",
      "Não existe esse país em nossa base\n"
     ]
    },
    {
     "data": {
      "text/html": [
       "<div>\n",
       "<style scoped>\n",
       "    .dataframe tbody tr th:only-of-type {\n",
       "        vertical-align: middle;\n",
       "    }\n",
       "\n",
       "    .dataframe tbody tr th {\n",
       "        vertical-align: top;\n",
       "    }\n",
       "\n",
       "    .dataframe thead th {\n",
       "        text-align: right;\n",
       "    }\n",
       "</style>\n",
       "<table border=\"1\" class=\"dataframe\">\n",
       "  <thead>\n",
       "    <tr style=\"text-align: right;\">\n",
       "      <th></th>\n",
       "      <th>Country</th>\n",
       "      <th>Avg \\n(Mbit/s)Ookla</th>\n",
       "      <th>Continente</th>\n",
       "    </tr>\n",
       "  </thead>\n",
       "  <tbody>\n",
       "    <tr>\n",
       "      <th>0</th>\n",
       "      <td>Canada</td>\n",
       "      <td>75.18</td>\n",
       "      <td>Americas</td>\n",
       "    </tr>\n",
       "    <tr>\n",
       "      <th>1</th>\n",
       "      <td>South Korea</td>\n",
       "      <td>117.95</td>\n",
       "      <td>Asia</td>\n",
       "    </tr>\n",
       "    <tr>\n",
       "      <th>2</th>\n",
       "      <td>Netherlands</td>\n",
       "      <td>108.33</td>\n",
       "      <td>Europe</td>\n",
       "    </tr>\n",
       "    <tr>\n",
       "      <th>3</th>\n",
       "      <td>Japan</td>\n",
       "      <td>44.05</td>\n",
       "      <td>Asia</td>\n",
       "    </tr>\n",
       "    <tr>\n",
       "      <th>4</th>\n",
       "      <td>Norway</td>\n",
       "      <td>134.73</td>\n",
       "      <td>Europe</td>\n",
       "    </tr>\n",
       "    <tr>\n",
       "      <th>...</th>\n",
       "      <td>...</td>\n",
       "      <td>...</td>\n",
       "      <td>...</td>\n",
       "    </tr>\n",
       "    <tr>\n",
       "      <th>139</th>\n",
       "      <td>Sudan</td>\n",
       "      <td>9.50</td>\n",
       "      <td>Africa</td>\n",
       "    </tr>\n",
       "    <tr>\n",
       "      <th>140</th>\n",
       "      <td>Cuba</td>\n",
       "      <td>9.10</td>\n",
       "      <td>Americas</td>\n",
       "    </tr>\n",
       "    <tr>\n",
       "      <th>141</th>\n",
       "      <td>Tajikistan</td>\n",
       "      <td>7.05</td>\n",
       "      <td>Asia</td>\n",
       "    </tr>\n",
       "    <tr>\n",
       "      <th>142</th>\n",
       "      <td>Venezuela</td>\n",
       "      <td>5.68</td>\n",
       "      <td>Americas</td>\n",
       "    </tr>\n",
       "    <tr>\n",
       "      <th>143</th>\n",
       "      <td>Palestine</td>\n",
       "      <td>4.89</td>\n",
       "      <td>Asia</td>\n",
       "    </tr>\n",
       "  </tbody>\n",
       "</table>\n",
       "<p>144 rows × 3 columns</p>\n",
       "</div>"
      ],
      "text/plain": [
       "         Country  Avg \\n(Mbit/s)Ookla Continente\n",
       "0         Canada                75.18   Americas\n",
       "1    South Korea               117.95       Asia\n",
       "2    Netherlands               108.33     Europe\n",
       "3          Japan                44.05       Asia\n",
       "4         Norway               134.73     Europe\n",
       "..           ...                  ...        ...\n",
       "139        Sudan                 9.50     Africa\n",
       "140         Cuba                 9.10   Americas\n",
       "141   Tajikistan                 7.05       Asia\n",
       "142    Venezuela                 5.68   Americas\n",
       "143    Palestine                 4.89       Asia\n",
       "\n",
       "[144 rows x 3 columns]"
      ]
     },
     "execution_count": 6,
     "metadata": {},
     "output_type": "execute_result"
    }
   ],
   "source": [
    "df2[\"Continente\"] = df2.apply(lambda row: retorna_continente(mapeamento_continente, row['Country']), axis=1)\n",
    "df2"
   ]
  },
  {
   "cell_type": "markdown",
   "id": "2455fd96-f9ce-4cfd-a61a-6e4f20ecac8e",
   "metadata": {},
   "source": [
    "# 3. Trabalhando com os dados de usuários de Internet"
   ]
  },
  {
   "cell_type": "markdown",
   "id": "af3d4602-0455-4cd5-8d5c-2298e3634b0b",
   "metadata": {},
   "source": [
    "## 3.1 Abra o arquivo de usuários de internet novamente"
   ]
  },
  {
   "cell_type": "code",
   "execution_count": 7,
   "id": "194da8b4-609b-45ce-b46c-1a53f7e89c98",
   "metadata": {},
   "outputs": [],
   "source": [
    "import pandas as pd\n",
    "df3 = pd.read_csv('./dados/worldwide_internet_users-users.csv')"
   ]
  },
  {
   "cell_type": "markdown",
   "id": "2d2fa1ce-667c-4a7b-a333-3efca09646df",
   "metadata": {},
   "source": [
    "## 3.2 Crie novas colunas do tipo 'int' para as colunas 'Population' e 'Internet users'"
   ]
  },
  {
   "cell_type": "code",
   "execution_count": 8,
   "id": "bca57479-8728-405e-a742-772a823c66a3",
   "metadata": {},
   "outputs": [
    {
     "data": {
      "text/plain": [
       "2"
      ]
     },
     "execution_count": 8,
     "metadata": {},
     "output_type": "execute_result"
    }
   ],
   "source": [
    "# Checa quantidade de nulls na coluna 'Population'\n",
    "df3['Population'].isnull().sum()"
   ]
  },
  {
   "cell_type": "code",
   "execution_count": 9,
   "id": "b92aa1c3-a322-4475-95ef-d85c4757b5b1",
   "metadata": {},
   "outputs": [
    {
     "data": {
      "text/plain": [
       "0"
      ]
     },
     "execution_count": 9,
     "metadata": {},
     "output_type": "execute_result"
    }
   ],
   "source": [
    "# Checa quantidade de nulls na coluna 'Internet users'\n",
    "df3['Internet users'].isnull().sum()"
   ]
  },
  {
   "cell_type": "code",
   "execution_count": 10,
   "id": "8d2b6a2b-3931-4a21-ba51-616f71053a9a",
   "metadata": {},
   "outputs": [],
   "source": [
    "# Descarta os nulls das duas colunas\n",
    "df3.dropna(axis='index', subset=['Internet users', 'Population'], inplace=True)"
   ]
  },
  {
   "cell_type": "code",
   "execution_count": 11,
   "id": "f8a9417e-2813-4de8-a40b-4af60ee51a66",
   "metadata": {},
   "outputs": [
    {
     "data": {
      "text/plain": [
       "0"
      ]
     },
     "execution_count": 11,
     "metadata": {},
     "output_type": "execute_result"
    }
   ],
   "source": [
    "# Confere que os nulls na coluna 'Population' foram removidos\n",
    "df3['Population'].isnull().sum()"
   ]
  },
  {
   "cell_type": "code",
   "execution_count": 12,
   "id": "c90ecc5b-e9cd-4f86-9bf7-304cf602d87f",
   "metadata": {},
   "outputs": [],
   "source": [
    "# Transforma a coluna 'Population' em \"Series\", para depois transformar em \"string\". Remove as virgulas da string, e transforma em int\n",
    "df3[\"Population\"] = pd.Series(df3[\"Population\"]).str.replace(',', '').astype(int)"
   ]
  },
  {
   "cell_type": "code",
   "execution_count": 13,
   "id": "f389e1bb-7b74-4987-9064-132da601fade",
   "metadata": {},
   "outputs": [],
   "source": [
    "# Transforma a coluna 'Internet users' em \"Series\", para depois transformar em \"string\". Remove as virgulas da string, e transforma em int\n",
    "df3[\"Internet users\"] = pd.Series(df3[\"Internet users\"]).str.replace(',', '').astype(int)"
   ]
  },
  {
   "cell_type": "code",
   "execution_count": 14,
   "id": "53f6ad3b-6017-4bd4-9e6e-e45f3de79444",
   "metadata": {},
   "outputs": [
    {
     "data": {
      "text/plain": [
       "Country or area    object\n",
       "Subregion          object\n",
       "Region             object\n",
       "Internet users      int64\n",
       "Population          int64\n",
       "dtype: object"
      ]
     },
     "execution_count": 14,
     "metadata": {},
     "output_type": "execute_result"
    }
   ],
   "source": [
    "# Checa o tipo das colunas\n",
    "df3.dtypes"
   ]
  }
 ],
 "metadata": {
  "kernelspec": {
   "display_name": "Python 3 (ipykernel)",
   "language": "python",
   "name": "python3"
  },
  "language_info": {
   "codemirror_mode": {
    "name": "ipython",
    "version": 3
   },
   "file_extension": ".py",
   "mimetype": "text/x-python",
   "name": "python",
   "nbconvert_exporter": "python",
   "pygments_lexer": "ipython3",
   "version": "3.10.5"
  }
 },
 "nbformat": 4,
 "nbformat_minor": 5
}
